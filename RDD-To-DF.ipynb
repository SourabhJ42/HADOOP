{
 "cells": [
  {
   "cell_type": "code",
   "execution_count": 4,
   "metadata": {},
   "outputs": [
    {
     "name": "stdout",
     "output_type": "stream",
     "text": [
      "DataFrame[ccity: string, cid: bigint, cname: string, cstate: string, czipcode: bigint]\n",
      "+---------+-----+--------------+------+--------+\n",
      "|    ccity|  cid|         cname|cstate|czipcode|\n",
      "+---------+-----+--------------+------+--------+\n",
      "|   Caguas|11039|   Mary Torres|    PR|     725|\n",
      "| Columbus| 5623|    Jose Haley|    OH|   43207|\n",
      "|  Houston| 5829|    Mary Smith|    TX|   77015|\n",
      "|   Caguas| 6336|Richard Maddox|    PR|     725|\n",
      "|Arlington| 1708|Margaret Booth|    TX|   76010|\n",
      "+---------+-----+--------------+------+--------+\n",
      "only showing top 5 rows\n",
      "\n",
      "+---------------+-----+----------------+------+--------+\n",
      "|          ccity|  cid|           cname|cstate|czipcode|\n",
      "+---------------+-----+----------------+------+--------+\n",
      "|        Modesto| 5577|      Mary Smith|    CA|   95350|\n",
      "|Rowland Heights| 1745|      Mary Smith|    CA|   91748|\n",
      "|      San Diego|11444|Kathleen Patrick|    CA|   92109|\n",
      "|          Indio| 8846|    Thomas Smith|    CA|   92201|\n",
      "|       El Cajon| 6237|  Bobby Anderson|    CA|   92020|\n",
      "|  Panorama City| 4085|       Mary Carr|    CA|   91402|\n",
      "|       Stockton| 8705|  Patricia Smith|    CA|   95207|\n",
      "| San Bernardino| 3669|       Mary Soto|    CA|   92410|\n",
      "|    Los Angeles| 6101|      Mary Smith|    CA|   90033|\n",
      "|  Laguna Niguel|11697|  Jessica Thomas|    CA|   92677|\n",
      "|       Winnetka| 1295|   Theresa Lopez|    CA|   91306|\n",
      "|    Simi Valley| 4814|     Paul Suarez|    CA|   93065|\n",
      "|       Highland| 8530|   William Smith|    CA|   92346|\n",
      "|        Ontario| 3846|    Ronald Lewis|    CA|   91764|\n",
      "|       Cerritos|10476|     John Hodges|    CA|   90703|\n",
      "|    Los Angeles|10243|  Donna Anderson|    CA|   90034|\n",
      "|        Modesto|11595|   Zachary Jones|    CA|   95355|\n",
      "|      San Diego|  847|  Jerry Ferguson|    CA|   92102|\n",
      "|        Salinas| 3440|    Mary Edwards|    CA|   93905|\n",
      "|  Moreno Valley| 3400|     Frank Lewis|    CA|   92557|\n",
      "+---------------+-----+----------------+------+--------+\n",
      "only showing top 20 rows\n",
      "\n"
     ]
    },
    {
     "ename": "AnalysisException",
     "evalue": "\"filter expression '`cstate`' of type string is not a boolean.;;\\nFilter cstate#3: string\\n+- LogicalRDD [ccity#0, cid#1L, cname#2, cstate#3, czipcode#4L]\\n\"",
     "output_type": "error",
     "traceback": [
      "\u001b[0;31m---------------------------------------------------------------------------\u001b[0m",
      "\u001b[0;31mPy4JJavaError\u001b[0m                             Traceback (most recent call last)",
      "\u001b[0;32m/usr/local/spark/python/pyspark/sql/utils.py\u001b[0m in \u001b[0;36mdeco\u001b[0;34m(*a, **kw)\u001b[0m\n\u001b[1;32m     62\u001b[0m         \u001b[0;32mtry\u001b[0m\u001b[0;34m:\u001b[0m\u001b[0;34m\u001b[0m\u001b[0m\n\u001b[0;32m---> 63\u001b[0;31m             \u001b[0;32mreturn\u001b[0m \u001b[0mf\u001b[0m\u001b[0;34m(\u001b[0m\u001b[0;34m*\u001b[0m\u001b[0ma\u001b[0m\u001b[0;34m,\u001b[0m \u001b[0;34m**\u001b[0m\u001b[0mkw\u001b[0m\u001b[0;34m)\u001b[0m\u001b[0;34m\u001b[0m\u001b[0m\n\u001b[0m\u001b[1;32m     64\u001b[0m         \u001b[0;32mexcept\u001b[0m \u001b[0mpy4j\u001b[0m\u001b[0;34m.\u001b[0m\u001b[0mprotocol\u001b[0m\u001b[0;34m.\u001b[0m\u001b[0mPy4JJavaError\u001b[0m \u001b[0;32mas\u001b[0m \u001b[0me\u001b[0m\u001b[0;34m:\u001b[0m\u001b[0;34m\u001b[0m\u001b[0m\n",
      "\u001b[0;32m/usr/local/spark/python/lib/py4j-0.10.7-src.zip/py4j/protocol.py\u001b[0m in \u001b[0;36mget_return_value\u001b[0;34m(answer, gateway_client, target_id, name)\u001b[0m\n\u001b[1;32m    327\u001b[0m                     \u001b[0;34m\"An error occurred while calling {0}{1}{2}.\\n\"\u001b[0m\u001b[0;34m.\u001b[0m\u001b[0;34m\u001b[0m\u001b[0m\n\u001b[0;32m--> 328\u001b[0;31m                     format(target_id, \".\", name), value)\n\u001b[0m\u001b[1;32m    329\u001b[0m             \u001b[0;32melse\u001b[0m\u001b[0;34m:\u001b[0m\u001b[0;34m\u001b[0m\u001b[0m\n",
      "\u001b[0;31mPy4JJavaError\u001b[0m: An error occurred while calling o176.filter.\n: org.apache.spark.sql.AnalysisException: filter expression '`cstate`' of type string is not a boolean.;;\nFilter cstate#3: string\n+- LogicalRDD [ccity#0, cid#1L, cname#2, cstate#3, czipcode#4L]\n\n\tat org.apache.spark.sql.catalyst.analysis.CheckAnalysis$class.failAnalysis(CheckAnalysis.scala:39)\n\tat org.apache.spark.sql.catalyst.analysis.Analyzer.failAnalysis(Analyzer.scala:91)\n\tat org.apache.spark.sql.catalyst.analysis.CheckAnalysis$$anonfun$checkAnalysis$1.apply(CheckAnalysis.scala:202)\n\tat org.apache.spark.sql.catalyst.analysis.CheckAnalysis$$anonfun$checkAnalysis$1.apply(CheckAnalysis.scala:78)\n\tat org.apache.spark.sql.catalyst.trees.TreeNode.foreachUp(TreeNode.scala:127)\n\tat org.apache.spark.sql.catalyst.analysis.CheckAnalysis$class.checkAnalysis(CheckAnalysis.scala:78)\n\tat org.apache.spark.sql.catalyst.analysis.Analyzer.checkAnalysis(Analyzer.scala:91)\n\tat org.apache.spark.sql.execution.QueryExecution.assertAnalyzed(QueryExecution.scala:52)\n\tat org.apache.spark.sql.Dataset.<init>(Dataset.scala:165)\n\tat org.apache.spark.sql.Dataset.<init>(Dataset.scala:171)\n\tat org.apache.spark.sql.Dataset$.apply(Dataset.scala:62)\n\tat org.apache.spark.sql.Dataset.withTypedPlan(Dataset.scala:2893)\n\tat org.apache.spark.sql.Dataset.filter(Dataset.scala:1305)\n\tat sun.reflect.NativeMethodAccessorImpl.invoke0(Native Method)\n\tat sun.reflect.NativeMethodAccessorImpl.invoke(NativeMethodAccessorImpl.java:62)\n\tat sun.reflect.DelegatingMethodAccessorImpl.invoke(DelegatingMethodAccessorImpl.java:43)\n\tat java.lang.reflect.Method.invoke(Method.java:498)\n\tat py4j.reflection.MethodInvoker.invoke(MethodInvoker.java:244)\n\tat py4j.reflection.ReflectionEngine.invoke(ReflectionEngine.java:357)\n\tat py4j.Gateway.invoke(Gateway.java:282)\n\tat py4j.commands.AbstractCommand.invokeMethod(AbstractCommand.java:132)\n\tat py4j.commands.CallCommand.execute(CallCommand.java:79)\n\tat py4j.GatewayConnection.run(GatewayConnection.java:238)\n\tat java.lang.Thread.run(Thread.java:748)\n",
      "\nDuring handling of the above exception, another exception occurred:\n",
      "\u001b[0;31mAnalysisException\u001b[0m                         Traceback (most recent call last)",
      "\u001b[0;32m<ipython-input-4-69a7b5d7be39>\u001b[0m in \u001b[0;36m<module>\u001b[0;34m\u001b[0m\n\u001b[1;32m     29\u001b[0m \u001b[0mcustomerDF\u001b[0m\u001b[0;34m.\u001b[0m\u001b[0mfilter\u001b[0m\u001b[0;34m(\u001b[0m\u001b[0mcustomerDF\u001b[0m\u001b[0;34m[\u001b[0m\u001b[0;34m'cstate'\u001b[0m\u001b[0;34m]\u001b[0m\u001b[0;34m==\u001b[0m\u001b[0;34m'CA'\u001b[0m\u001b[0;34m)\u001b[0m\u001b[0;34m.\u001b[0m\u001b[0mshow\u001b[0m\u001b[0;34m(\u001b[0m\u001b[0;34m)\u001b[0m\u001b[0;34m\u001b[0m\u001b[0m\n\u001b[1;32m     30\u001b[0m \u001b[0;34m\u001b[0m\u001b[0m\n\u001b[0;32m---> 31\u001b[0;31m \u001b[0mcustomerDF\u001b[0m\u001b[0;34m.\u001b[0m\u001b[0mfilter\u001b[0m\u001b[0;34m(\u001b[0m\u001b[0mcustomerDF\u001b[0m\u001b[0;34m[\u001b[0m\u001b[0;34m'cstate'\u001b[0m\u001b[0;34m]\u001b[0m\u001b[0;34m)\u001b[0m\u001b[0;34m.\u001b[0m\u001b[0mcount\u001b[0m\u001b[0;34m(\u001b[0m\u001b[0;34m)\u001b[0m\u001b[0;34m.\u001b[0m\u001b[0mshow\u001b[0m\u001b[0;34m(\u001b[0m\u001b[0;34m)\u001b[0m\u001b[0;34m\u001b[0m\u001b[0m\n\u001b[0m",
      "\u001b[0;32m/usr/local/spark/python/pyspark/sql/dataframe.py\u001b[0m in \u001b[0;36mfilter\u001b[0;34m(self, condition)\u001b[0m\n\u001b[1;32m   1078\u001b[0m             \u001b[0mjdf\u001b[0m \u001b[0;34m=\u001b[0m \u001b[0mself\u001b[0m\u001b[0;34m.\u001b[0m\u001b[0m_jdf\u001b[0m\u001b[0;34m.\u001b[0m\u001b[0mfilter\u001b[0m\u001b[0;34m(\u001b[0m\u001b[0mcondition\u001b[0m\u001b[0;34m)\u001b[0m\u001b[0;34m\u001b[0m\u001b[0m\n\u001b[1;32m   1079\u001b[0m         \u001b[0;32melif\u001b[0m \u001b[0misinstance\u001b[0m\u001b[0;34m(\u001b[0m\u001b[0mcondition\u001b[0m\u001b[0;34m,\u001b[0m \u001b[0mColumn\u001b[0m\u001b[0;34m)\u001b[0m\u001b[0;34m:\u001b[0m\u001b[0;34m\u001b[0m\u001b[0m\n\u001b[0;32m-> 1080\u001b[0;31m             \u001b[0mjdf\u001b[0m \u001b[0;34m=\u001b[0m \u001b[0mself\u001b[0m\u001b[0;34m.\u001b[0m\u001b[0m_jdf\u001b[0m\u001b[0;34m.\u001b[0m\u001b[0mfilter\u001b[0m\u001b[0;34m(\u001b[0m\u001b[0mcondition\u001b[0m\u001b[0;34m.\u001b[0m\u001b[0m_jc\u001b[0m\u001b[0;34m)\u001b[0m\u001b[0;34m\u001b[0m\u001b[0m\n\u001b[0m\u001b[1;32m   1081\u001b[0m         \u001b[0;32melse\u001b[0m\u001b[0;34m:\u001b[0m\u001b[0;34m\u001b[0m\u001b[0m\n\u001b[1;32m   1082\u001b[0m             \u001b[0;32mraise\u001b[0m \u001b[0mTypeError\u001b[0m\u001b[0;34m(\u001b[0m\u001b[0;34m\"condition should be string or Column\"\u001b[0m\u001b[0;34m)\u001b[0m\u001b[0;34m\u001b[0m\u001b[0m\n",
      "\u001b[0;32m/usr/local/spark/python/lib/py4j-0.10.7-src.zip/py4j/java_gateway.py\u001b[0m in \u001b[0;36m__call__\u001b[0;34m(self, *args)\u001b[0m\n\u001b[1;32m   1255\u001b[0m         \u001b[0manswer\u001b[0m \u001b[0;34m=\u001b[0m \u001b[0mself\u001b[0m\u001b[0;34m.\u001b[0m\u001b[0mgateway_client\u001b[0m\u001b[0;34m.\u001b[0m\u001b[0msend_command\u001b[0m\u001b[0;34m(\u001b[0m\u001b[0mcommand\u001b[0m\u001b[0;34m)\u001b[0m\u001b[0;34m\u001b[0m\u001b[0m\n\u001b[1;32m   1256\u001b[0m         return_value = get_return_value(\n\u001b[0;32m-> 1257\u001b[0;31m             answer, self.gateway_client, self.target_id, self.name)\n\u001b[0m\u001b[1;32m   1258\u001b[0m \u001b[0;34m\u001b[0m\u001b[0m\n\u001b[1;32m   1259\u001b[0m         \u001b[0;32mfor\u001b[0m \u001b[0mtemp_arg\u001b[0m \u001b[0;32min\u001b[0m \u001b[0mtemp_args\u001b[0m\u001b[0;34m:\u001b[0m\u001b[0;34m\u001b[0m\u001b[0m\n",
      "\u001b[0;32m/usr/local/spark/python/pyspark/sql/utils.py\u001b[0m in \u001b[0;36mdeco\u001b[0;34m(*a, **kw)\u001b[0m\n\u001b[1;32m     67\u001b[0m                                              e.java_exception.getStackTrace()))\n\u001b[1;32m     68\u001b[0m             \u001b[0;32mif\u001b[0m \u001b[0ms\u001b[0m\u001b[0;34m.\u001b[0m\u001b[0mstartswith\u001b[0m\u001b[0;34m(\u001b[0m\u001b[0;34m'org.apache.spark.sql.AnalysisException: '\u001b[0m\u001b[0;34m)\u001b[0m\u001b[0;34m:\u001b[0m\u001b[0;34m\u001b[0m\u001b[0m\n\u001b[0;32m---> 69\u001b[0;31m                 \u001b[0;32mraise\u001b[0m \u001b[0mAnalysisException\u001b[0m\u001b[0;34m(\u001b[0m\u001b[0ms\u001b[0m\u001b[0;34m.\u001b[0m\u001b[0msplit\u001b[0m\u001b[0;34m(\u001b[0m\u001b[0;34m': '\u001b[0m\u001b[0;34m,\u001b[0m \u001b[0;36m1\u001b[0m\u001b[0;34m)\u001b[0m\u001b[0;34m[\u001b[0m\u001b[0;36m1\u001b[0m\u001b[0;34m]\u001b[0m\u001b[0;34m,\u001b[0m \u001b[0mstackTrace\u001b[0m\u001b[0;34m)\u001b[0m\u001b[0;34m\u001b[0m\u001b[0m\n\u001b[0m\u001b[1;32m     70\u001b[0m             \u001b[0;32mif\u001b[0m \u001b[0ms\u001b[0m\u001b[0;34m.\u001b[0m\u001b[0mstartswith\u001b[0m\u001b[0;34m(\u001b[0m\u001b[0;34m'org.apache.spark.sql.catalyst.analysis'\u001b[0m\u001b[0;34m)\u001b[0m\u001b[0;34m:\u001b[0m\u001b[0;34m\u001b[0m\u001b[0m\n\u001b[1;32m     71\u001b[0m                 \u001b[0;32mraise\u001b[0m \u001b[0mAnalysisException\u001b[0m\u001b[0;34m(\u001b[0m\u001b[0ms\u001b[0m\u001b[0;34m.\u001b[0m\u001b[0msplit\u001b[0m\u001b[0;34m(\u001b[0m\u001b[0;34m': '\u001b[0m\u001b[0;34m,\u001b[0m \u001b[0;36m1\u001b[0m\u001b[0;34m)\u001b[0m\u001b[0;34m[\u001b[0m\u001b[0;36m1\u001b[0m\u001b[0;34m]\u001b[0m\u001b[0;34m,\u001b[0m \u001b[0mstackTrace\u001b[0m\u001b[0;34m)\u001b[0m\u001b[0;34m\u001b[0m\u001b[0m\n",
      "\u001b[0;31mAnalysisException\u001b[0m: \"filter expression '`cstate`' of type string is not a boolean.;;\\nFilter cstate#3: string\\n+- LogicalRDD [ccity#0, cid#1L, cname#2, cstate#3, czipcode#4L]\\n\""
     ]
    }
   ],
   "source": [
    "\n",
    "import findspark\n",
    "findspark.init('/usr/local/spark')\n",
    "\n",
    "from pyspark.sql import SparkSession\n",
    "spark = SparkSession.builder.appName(\"Python MySQL connect005\").getOrCreate()\n",
    "\n",
    "import pyspark\n",
    "from pyspark.sql import Row\n",
    "\n",
    "sc=spark.sparkContext\n",
    "\n",
    "rdd1=sc.textFile(\"/home/hduser/Desktop/customers.tsv\")\n",
    "\n",
    "rdd2=sc.textFile(\"/home/hduser/Desktop/products.tsv\")\n",
    "\n",
    "rdd2=rdd1.map(lambda a:a.split(\"\\t\"))\n",
    "#rdd2.top(10)\n",
    "\n",
    "customers = rdd2.map(lambda a:Row(cid=int(a[0]),cname=a[1],ccity=a[2],cstate=a[3],czipcode=int(a[4])))\n",
    "\n",
    "customerDF = spark.createDataFrame(customers)\n",
    "\n",
    "type(print(customerDF))\n",
    "\n",
    "customerDF.show(5)\n",
    "\n",
    "\n",
    "customerDF.filter(customerDF['cstate']=='CA').show()\n",
    "\n",
    "customerDF.filter(customerDF['cstate']).count().show()"
   ]
  },
  {
   "cell_type": "code",
   "execution_count": 5,
   "metadata": {},
   "outputs": [
    {
     "name": "stdout",
     "output_type": "stream",
     "text": [
      "+---------------+-----+----------------+------+--------+\n",
      "|          ccity|  cid|           cname|cstate|czipcode|\n",
      "+---------------+-----+----------------+------+--------+\n",
      "|        Modesto| 5577|      Mary Smith|    CA|   95350|\n",
      "|Rowland Heights| 1745|      Mary Smith|    CA|   91748|\n",
      "|      San Diego|11444|Kathleen Patrick|    CA|   92109|\n",
      "|          Indio| 8846|    Thomas Smith|    CA|   92201|\n",
      "|       El Cajon| 6237|  Bobby Anderson|    CA|   92020|\n",
      "|  Panorama City| 4085|       Mary Carr|    CA|   91402|\n",
      "|       Stockton| 8705|  Patricia Smith|    CA|   95207|\n",
      "| San Bernardino| 3669|       Mary Soto|    CA|   92410|\n",
      "|    Los Angeles| 6101|      Mary Smith|    CA|   90033|\n",
      "|  Laguna Niguel|11697|  Jessica Thomas|    CA|   92677|\n",
      "|       Winnetka| 1295|   Theresa Lopez|    CA|   91306|\n",
      "|    Simi Valley| 4814|     Paul Suarez|    CA|   93065|\n",
      "|       Highland| 8530|   William Smith|    CA|   92346|\n",
      "|        Ontario| 3846|    Ronald Lewis|    CA|   91764|\n",
      "|       Cerritos|10476|     John Hodges|    CA|   90703|\n",
      "|    Los Angeles|10243|  Donna Anderson|    CA|   90034|\n",
      "|        Modesto|11595|   Zachary Jones|    CA|   95355|\n",
      "|      San Diego|  847|  Jerry Ferguson|    CA|   92102|\n",
      "|        Salinas| 3440|    Mary Edwards|    CA|   93905|\n",
      "|  Moreno Valley| 3400|     Frank Lewis|    CA|   92557|\n",
      "+---------------+-----+----------------+------+--------+\n",
      "only showing top 20 rows\n",
      "\n"
     ]
    }
   ],
   "source": [
    "customerDF.filter(customerDF['cstate']=='CA').show()"
   ]
  },
  {
   "cell_type": "code",
   "execution_count": 7,
   "metadata": {},
   "outputs": [
    {
     "name": "stdout",
     "output_type": "stream",
     "text": [
      "+------+-----+\n",
      "|cstate|count|\n",
      "+------+-----+\n",
      "|    AZ|   19|\n",
      "|    SC|    2|\n",
      "|    LA|    7|\n",
      "|    MN|    1|\n",
      "|    NJ|   19|\n",
      "|    DC|    4|\n",
      "|    OR|    4|\n",
      "|    VA|   14|\n",
      "|    RI|    2|\n",
      "|    KY|    1|\n",
      "|    MI|   28|\n",
      "|    NV|   16|\n",
      "|    WI|    9|\n",
      "|    ID|    2|\n",
      "|    CA|  187|\n",
      "|    CT|    8|\n",
      "|    NC|   19|\n",
      "|    MD|   19|\n",
      "|    DE|    1|\n",
      "|    MO|   13|\n",
      "+------+-----+\n",
      "only showing top 20 rows\n",
      "\n"
     ]
    }
   ],
   "source": [
    "customerDF.groupBy(customerDF['cstate']).count().show()"
   ]
  },
  {
   "cell_type": "code",
   "execution_count": null,
   "metadata": {},
   "outputs": [],
   "source": []
  }
 ],
 "metadata": {
  "kernelspec": {
   "display_name": "Python 3",
   "language": "python",
   "name": "python3"
  },
  "language_info": {
   "codemirror_mode": {
    "name": "ipython",
    "version": 3
   },
   "file_extension": ".py",
   "mimetype": "text/x-python",
   "name": "python",
   "nbconvert_exporter": "python",
   "pygments_lexer": "ipython3",
   "version": "3.5.2"
  }
 },
 "nbformat": 4,
 "nbformat_minor": 2
}
