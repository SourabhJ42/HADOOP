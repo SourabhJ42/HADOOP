{
 "cells": [
  {
   "cell_type": "code",
   "execution_count": 1,
   "metadata": {},
   "outputs": [],
   "source": [
    "import pyspark"
   ]
  },
  {
   "cell_type": "code",
   "execution_count": 2,
   "metadata": {},
   "outputs": [],
   "source": [
    "from pyspark.sql import SparkSession"
   ]
  },
  {
   "cell_type": "code",
   "execution_count": 3,
   "metadata": {},
   "outputs": [
    {
     "name": "stderr",
     "output_type": "stream",
     "text": [
      "/usr/local/lib/python3.5/dist-packages/pyspark/context.py:227: DeprecationWarning: Support for Python 2 and Python 3 prior to version 3.6 is deprecated as of Spark 3.0. See also the plan for dropping Python 2 support at https://spark.apache.org/news/plan-for-dropping-python-2-support.html.\n",
      "  DeprecationWarning)\n"
     ]
    }
   ],
   "source": [
    "spark = SparkSession.builder.appName(\"Python DataFrame Example\").getOrCreate()"
   ]
  },
  {
   "cell_type": "code",
   "execution_count": 4,
   "metadata": {},
   "outputs": [],
   "source": [
    "customerDF = spark.read.load(\"/home/hduser/Desktop/customers.txt\", format=\"csv\", sep=\"\\t\", inferSchema=\"True\", header=\"True\")"
   ]
  },
  {
   "cell_type": "raw",
   "metadata": {},
   "source": []
  },
  {
   "cell_type": "code",
   "execution_count": 5,
   "metadata": {},
   "outputs": [
    {
     "name": "stdout",
     "output_type": "stream",
     "text": [
      "root\n",
      " |-- customer_id: integer (nullable = true)\n",
      " |-- customer_name: string (nullable = true)\n",
      " |-- customer_city: string (nullable = true)\n",
      " |-- customer_state: string (nullable = true)\n",
      " |-- customer_zipcode: integer (nullable = true)\n",
      "\n"
     ]
    }
   ],
   "source": [
    "customerDF.printSchema()"
   ]
  },
  {
   "cell_type": "code",
   "execution_count": 9,
   "metadata": {},
   "outputs": [
    {
     "name": "stdout",
     "output_type": "stream",
     "text": [
      "+----------------+\n",
      "|   customer_name|\n",
      "+----------------+\n",
      "|     Mary Torres|\n",
      "|      Jose Haley|\n",
      "|      Mary Smith|\n",
      "|  Richard Maddox|\n",
      "|  Margaret Booth|\n",
      "|  Mary Henderson|\n",
      "|     Lisa Walker|\n",
      "|   Jonathan Hill|\n",
      "|Carolyn Sheppard|\n",
      "|    Mary Mendoza|\n",
      "|   Michael Smith|\n",
      "|    James Holmes|\n",
      "|     Mary Dawson|\n",
      "|    Adam Marquez|\n",
      "|    Gloria Smith|\n",
      "|       Mary Webb|\n",
      "|  Nancy Alvarado|\n",
      "|  Russell Flores|\n",
      "|    Denise Smith|\n",
      "|  Jose Dickerson|\n",
      "+----------------+\n",
      "only showing top 20 rows\n",
      "\n"
     ]
    }
   ],
   "source": [
    "customerDF.select(customerDF[\"customer_name\"]).show()"
   ]
  },
  {
   "cell_type": "code",
   "execution_count": 10,
   "metadata": {},
   "outputs": [
    {
     "name": "stdout",
     "output_type": "stream",
     "text": [
      "+----------------+\n",
      "|   customer_name|\n",
      "+----------------+\n",
      "|     Mary Torres|\n",
      "|      Jose Haley|\n",
      "|      Mary Smith|\n",
      "|  Richard Maddox|\n",
      "|  Margaret Booth|\n",
      "|  Mary Henderson|\n",
      "|     Lisa Walker|\n",
      "|   Jonathan Hill|\n",
      "|Carolyn Sheppard|\n",
      "|    Mary Mendoza|\n",
      "|   Michael Smith|\n",
      "|    James Holmes|\n",
      "|     Mary Dawson|\n",
      "|    Adam Marquez|\n",
      "|    Gloria Smith|\n",
      "|       Mary Webb|\n",
      "|  Nancy Alvarado|\n",
      "|  Russell Flores|\n",
      "|    Denise Smith|\n",
      "|  Jose Dickerson|\n",
      "+----------------+\n",
      "only showing top 20 rows\n",
      "\n"
     ]
    }
   ],
   "source": [
    "customerDF.select(\"customer_name\").show()"
   ]
  },
  {
   "cell_type": "code",
   "execution_count": 13,
   "metadata": {},
   "outputs": [
    {
     "name": "stdout",
     "output_type": "stream",
     "text": [
      "+----------------+-------------+\n",
      "|   customer_name|customer_city|\n",
      "+----------------+-------------+\n",
      "|     Mary Torres|       Caguas|\n",
      "|      Jose Haley|     Columbus|\n",
      "|      Mary Smith|      Houston|\n",
      "|  Richard Maddox|       Caguas|\n",
      "|  Margaret Booth|    Arlington|\n",
      "|  Mary Henderson|       Caguas|\n",
      "|     Lisa Walker|       Caguas|\n",
      "|   Jonathan Hill|      Phoenix|\n",
      "|Carolyn Sheppard|Pompano Beach|\n",
      "|    Mary Mendoza|       Caguas|\n",
      "|   Michael Smith|       Caguas|\n",
      "|    James Holmes|     Hilliard|\n",
      "|     Mary Dawson|       Caguas|\n",
      "|    Adam Marquez|  San Antonio|\n",
      "|    Gloria Smith|       Caguas|\n",
      "|       Mary Webb|   San Marcos|\n",
      "|  Nancy Alvarado|     Flushing|\n",
      "|  Russell Flores|       Caguas|\n",
      "|    Denise Smith|    Rego Park|\n",
      "|  Jose Dickerson|         Mesa|\n",
      "+----------------+-------------+\n",
      "only showing top 20 rows\n",
      "\n"
     ]
    }
   ],
   "source": [
    "customerDF.select(customerDF[\"customer_name\"],customerDF[\"customer_city\"]).show()"
   ]
  },
  {
   "cell_type": "code",
   "execution_count": 14,
   "metadata": {},
   "outputs": [
    {
     "name": "stdout",
     "output_type": "stream",
     "text": [
      "+----------------+-------------+\n",
      "|   customer_name|customer_city|\n",
      "+----------------+-------------+\n",
      "|     Mary Torres|       Caguas|\n",
      "|      Jose Haley|     Columbus|\n",
      "|      Mary Smith|      Houston|\n",
      "|  Richard Maddox|       Caguas|\n",
      "|  Margaret Booth|    Arlington|\n",
      "|  Mary Henderson|       Caguas|\n",
      "|     Lisa Walker|       Caguas|\n",
      "|   Jonathan Hill|      Phoenix|\n",
      "|Carolyn Sheppard|Pompano Beach|\n",
      "|    Mary Mendoza|       Caguas|\n",
      "|   Michael Smith|       Caguas|\n",
      "|    James Holmes|     Hilliard|\n",
      "|     Mary Dawson|       Caguas|\n",
      "|    Adam Marquez|  San Antonio|\n",
      "|    Gloria Smith|       Caguas|\n",
      "|       Mary Webb|   San Marcos|\n",
      "|  Nancy Alvarado|     Flushing|\n",
      "|  Russell Flores|       Caguas|\n",
      "|    Denise Smith|    Rego Park|\n",
      "|  Jose Dickerson|         Mesa|\n",
      "+----------------+-------------+\n",
      "only showing top 20 rows\n",
      "\n"
     ]
    }
   ],
   "source": [
    "customerDF.select(\"customer_name\",\"customer_city\").show()"
   ]
  },
  {
   "cell_type": "code",
   "execution_count": 15,
   "metadata": {},
   "outputs": [
    {
     "name": "stdout",
     "output_type": "stream",
     "text": [
      "+----------------+--------------+\n",
      "|   customer_name|customer_state|\n",
      "+----------------+--------------+\n",
      "|     Mary Torres|            PR|\n",
      "|      Jose Haley|            OH|\n",
      "|      Mary Smith|            TX|\n",
      "|  Richard Maddox|            PR|\n",
      "|  Margaret Booth|            TX|\n",
      "|  Mary Henderson|            PR|\n",
      "|     Lisa Walker|            PR|\n",
      "|   Jonathan Hill|            AZ|\n",
      "|Carolyn Sheppard|            FL|\n",
      "|    Mary Mendoza|            PR|\n",
      "|   Michael Smith|            PR|\n",
      "|    James Holmes|            OH|\n",
      "|     Mary Dawson|            PR|\n",
      "|    Adam Marquez|            TX|\n",
      "|    Gloria Smith|            PR|\n",
      "|       Mary Webb|            TX|\n",
      "|  Nancy Alvarado|            NY|\n",
      "|  Russell Flores|            PR|\n",
      "|    Denise Smith|            NY|\n",
      "|  Jose Dickerson|            AZ|\n",
      "+----------------+--------------+\n",
      "only showing top 20 rows\n",
      "\n"
     ]
    }
   ],
   "source": [
    "customerDF.select(\"customer_name\",\"customer_state\").show()"
   ]
  },
  {
   "cell_type": "code",
   "execution_count": 17,
   "metadata": {},
   "outputs": [
    {
     "name": "stdout",
     "output_type": "stream",
     "text": [
      "+-----------+----------------+---------------+--------------+----------------+\n",
      "|customer_id|   customer_name|  customer_city|customer_state|customer_zipcode|\n",
      "+-----------+----------------+---------------+--------------+----------------+\n",
      "|       5577|      Mary Smith|        Modesto|            CA|           95350|\n",
      "|       1745|      Mary Smith|Rowland Heights|            CA|           91748|\n",
      "|      11444|Kathleen Patrick|      San Diego|            CA|           92109|\n",
      "|       8846|    Thomas Smith|          Indio|            CA|           92201|\n",
      "|       6237|  Bobby Anderson|       El Cajon|            CA|           92020|\n",
      "|       4085|       Mary Carr|  Panorama City|            CA|           91402|\n",
      "|       8705|  Patricia Smith|       Stockton|            CA|           95207|\n",
      "|       3669|       Mary Soto| San Bernardino|            CA|           92410|\n",
      "|       6101|      Mary Smith|    Los Angeles|            CA|           90033|\n",
      "|      11697|  Jessica Thomas|  Laguna Niguel|            CA|           92677|\n",
      "|       1295|   Theresa Lopez|       Winnetka|            CA|           91306|\n",
      "|       4814|     Paul Suarez|    Simi Valley|            CA|           93065|\n",
      "|       8530|   William Smith|       Highland|            CA|           92346|\n",
      "|       3846|    Ronald Lewis|        Ontario|            CA|           91764|\n",
      "|      10476|     John Hodges|       Cerritos|            CA|           90703|\n",
      "|      10243|  Donna Anderson|    Los Angeles|            CA|           90034|\n",
      "|      11595|   Zachary Jones|        Modesto|            CA|           95355|\n",
      "|        847|  Jerry Ferguson|      San Diego|            CA|           92102|\n",
      "|       3440|    Mary Edwards|        Salinas|            CA|           93905|\n",
      "|       3400|     Frank Lewis|  Moreno Valley|            CA|           92557|\n",
      "+-----------+----------------+---------------+--------------+----------------+\n",
      "only showing top 20 rows\n",
      "\n"
     ]
    }
   ],
   "source": [
    "customerDF.filter(customerDF[\"customer_state\"] == \"CA\").show()"
   ]
  },
  {
   "cell_type": "code",
   "execution_count": 19,
   "metadata": {},
   "outputs": [
    {
     "name": "stdout",
     "output_type": "stream",
     "text": [
      "+----------------+\n",
      "|   customer_name|\n",
      "+----------------+\n",
      "|      Mary Smith|\n",
      "|      Mary Smith|\n",
      "|Kathleen Patrick|\n",
      "|    Thomas Smith|\n",
      "|  Bobby Anderson|\n",
      "|       Mary Carr|\n",
      "|  Patricia Smith|\n",
      "|       Mary Soto|\n",
      "|      Mary Smith|\n",
      "|  Jessica Thomas|\n",
      "|   Theresa Lopez|\n",
      "|     Paul Suarez|\n",
      "|   William Smith|\n",
      "|    Ronald Lewis|\n",
      "|     John Hodges|\n",
      "|  Donna Anderson|\n",
      "|   Zachary Jones|\n",
      "|  Jerry Ferguson|\n",
      "|    Mary Edwards|\n",
      "|     Frank Lewis|\n",
      "+----------------+\n",
      "only showing top 20 rows\n",
      "\n"
     ]
    }
   ],
   "source": [
    "customerDF.select(\"customer_name\").filter(customerDF[\"customer_state\"] == \"CA\").show()"
   ]
  },
  {
   "cell_type": "code",
   "execution_count": 30,
   "metadata": {},
   "outputs": [],
   "source": [
    "countDF = customerDF.groupBy(\"customer_state\").count()"
   ]
  },
  {
   "cell_type": "code",
   "execution_count": 21,
   "metadata": {},
   "outputs": [
    {
     "name": "stdout",
     "output_type": "stream",
     "text": [
      "/home/hduser\r\n"
     ]
    }
   ],
   "source": [
    "!pwd"
   ]
  },
  {
   "cell_type": "code",
   "execution_count": 31,
   "metadata": {},
   "outputs": [
    {
     "name": "stdout",
     "output_type": "stream",
     "text": [
      "+--------------+-----+\n",
      "|customer_state|count|\n",
      "+--------------+-----+\n",
      "|            CA|  187|\n",
      "|            NY|   79|\n",
      "|            TX|   62|\n",
      "|            PR|  505|\n",
      "+--------------+-----+\n",
      "\n"
     ]
    }
   ],
   "source": [
    "countDF.filter(countDF[\"count\"] > 50).show()"
   ]
  },
  {
   "cell_type": "code",
   "execution_count": 36,
   "metadata": {},
   "outputs": [],
   "source": [
    "customerDF.createOrReplaceTempView(\"customerView\")"
   ]
  },
  {
   "cell_type": "code",
   "execution_count": 41,
   "metadata": {},
   "outputs": [
    {
     "name": "stdout",
     "output_type": "stream",
     "text": [
      "+--------------+--------+\n",
      "|customer_state|count(1)|\n",
      "+--------------+--------+\n",
      "|            CA|     187|\n",
      "|            NY|      79|\n",
      "|            TX|      62|\n",
      "|            PR|     505|\n",
      "+--------------+--------+\n",
      "\n"
     ]
    }
   ],
   "source": [
    "spark.sql(\"select customer_state, count(*) from customerView group by customer_state having count(*) > 50\").show()"
   ]
  },
  {
   "cell_type": "code",
   "execution_count": 51,
   "metadata": {},
   "outputs": [],
   "source": [
    "cStateCount50 = spark.sql(\"select customer_state, count(*) as state_count from customerView group by customer_state having state_count > 50\")"
   ]
  },
  {
   "cell_type": "code",
   "execution_count": 46,
   "metadata": {},
   "outputs": [
    {
     "name": "stdout",
     "output_type": "stream",
     "text": [
      "root\n",
      " |-- customer_state: string (nullable = true)\n",
      " |-- count(1): long (nullable = false)\n",
      "\n"
     ]
    }
   ],
   "source": [
    "cStateCount50.printSchema()"
   ]
  },
  {
   "cell_type": "code",
   "execution_count": 47,
   "metadata": {},
   "outputs": [
    {
     "data": {
      "text/plain": [
       "pyspark.sql.dataframe.DataFrame"
      ]
     },
     "execution_count": 47,
     "metadata": {},
     "output_type": "execute_result"
    }
   ],
   "source": [
    "type(cStateCount50)"
   ]
  },
  {
   "cell_type": "code",
   "execution_count": 53,
   "metadata": {},
   "outputs": [],
   "source": [
    "cStateCount50.coalesce(1).write.parquet(\"/home/hduser/Desktop/cust.parquet\")"
   ]
  },
  {
   "cell_type": "code",
   "execution_count": 55,
   "metadata": {},
   "outputs": [],
   "source": [
    "cStateCount50.coalesce(1).write.json(\"/home/hduser/Desktop/cust.json\")"
   ]
  },
  {
   "cell_type": "code",
   "execution_count": 56,
   "metadata": {},
   "outputs": [],
   "source": [
    "productDF = spark.read.json(\"/home/hduser/Desktop/products.json\")"
   ]
  },
  {
   "cell_type": "code",
   "execution_count": 57,
   "metadata": {
    "scrolled": true
   },
   "outputs": [
    {
     "name": "stdout",
     "output_type": "stream",
     "text": [
      "root\n",
      " |-- category_id: long (nullable = true)\n",
      " |-- customer_id: long (nullable = true)\n",
      " |-- product_category: string (nullable = true)\n",
      " |-- product_name: string (nullable = true)\n",
      " |-- product_price: double (nullable = true)\n",
      " |-- product_quantity: long (nullable = true)\n",
      " |-- salestxn_id: long (nullable = true)\n",
      "\n"
     ]
    }
   ],
   "source": [
    "productDF.printSchema()"
   ]
  },
  {
   "cell_type": "code",
   "execution_count": 58,
   "metadata": {},
   "outputs": [
    {
     "name": "stdout",
     "output_type": "stream",
     "text": [
      "+-----------+-----------+------------------+--------------------+-------------+----------------+-----------+\n",
      "|category_id|customer_id|  product_category|        product_name|product_price|product_quantity|salestxn_id|\n",
      "+-----------+-----------+------------------+--------------------+-------------+----------------+-----------+\n",
      "|         45|      12080|           Fishing|O'Brien Men's Neo...|        49.98|               2|      98660|\n",
      "|         45|      12279|           Fishing|O'Brien Men's Neo...|        49.98|               2|      97749|\n",
      "|         12|       3343|      Boxing & MMA|Under Armour Wome...|        31.99|               4|     103889|\n",
      "|         45|      12382|           Fishing|O'Brien Men's Neo...|        49.98|               5|      22751|\n",
      "|         47|       5032|           Boating|Pelican Sunstream...|       199.99|               1|     129001|\n",
      "|         17|       2663|            Cleats|Nike Men's CJ Eli...|       129.99|               1|     165110|\n",
      "|         42|        702| Bike & Skate Shop|Diamondback Women...|       299.98|               1|     140220|\n",
      "|         44|       3959|Hunting & Shooting|Field & Stream Sp...|       399.98|               1|      77426|\n",
      "|         16|       1836|   As Seen on  TV!|Perfect Fitness P...|        59.99|               4|     101870|\n",
      "|         17|       5212|            Cleats|Nike Men's CJ Eli...|       129.99|               1|     131685|\n",
      "|         47|       4037|           Boating|Pelican Sunstream...|       199.99|               1|     164177|\n",
      "|         17|       7528|            Cleats|Nike Men's CJ Eli...|       129.99|               1|      78983|\n",
      "|         42|       5658| Bike & Skate Shop|Diamondback Women...|       299.98|               1|      84894|\n",
      "|         17|       6888|            Cleats|Nike Men's CJ Eli...|       129.99|               1|     170683|\n",
      "|         23|       7946|     Men's Apparel|Nike Men's Dri-FI...|         50.0|               3|      22083|\n",
      "|         45|      10667|           Fishing|O'Brien Men's Neo...|        49.98|               1|      76014|\n",
      "|         45|       9976|           Fishing|O'Brien Men's Neo...|        49.98|               5|      79165|\n",
      "|         23|       4798|     Men's Apparel|Nike Men's Dri-FI...|         50.0|               1|      44574|\n",
      "|         42|       9356| Bike & Skate Shop|Diamondback Women...|       299.98|               1|     102807|\n",
      "|         28|       8284|        Top Brands|Under Armour Girl...|        39.99|               1|     125420|\n",
      "+-----------+-----------+------------------+--------------------+-------------+----------------+-----------+\n",
      "only showing top 20 rows\n",
      "\n"
     ]
    }
   ],
   "source": [
    "productDF.show()"
   ]
  },
  {
   "cell_type": "code",
   "execution_count": 59,
   "metadata": {},
   "outputs": [
    {
     "name": "stdout",
     "output_type": "stream",
     "text": [
      "+-----------+-----------+------------------+--------------------+-------------+----------------+-----------+\n",
      "|category_id|customer_id|  product_category|        product_name|product_price|product_quantity|salestxn_id|\n",
      "+-----------+-----------+------------------+--------------------+-------------+----------------+-----------+\n",
      "|         42|        702| Bike & Skate Shop|Diamondback Women...|       299.98|               1|     140220|\n",
      "|         44|       3959|Hunting & Shooting|Field & Stream Sp...|       399.98|               1|      77426|\n",
      "|         42|       5658| Bike & Skate Shop|Diamondback Women...|       299.98|               1|      84894|\n",
      "|         42|       9356| Bike & Skate Shop|Diamondback Women...|       299.98|               1|     102807|\n",
      "|         42|       8651| Bike & Skate Shop|Diamondback Women...|       299.98|               1|     134324|\n",
      "|         44|      12072|Hunting & Shooting|Field & Stream Sp...|       399.98|               1|      27476|\n",
      "|         42|       7830| Bike & Skate Shop|Diamondback Women...|       299.98|               1|     154460|\n",
      "|         42|       6995| Bike & Skate Shop|Diamondback Women...|       299.98|               1|     109562|\n",
      "|         42|      12428| Bike & Skate Shop|Diamondback Women...|       299.98|               1|     172090|\n",
      "|         44|       7013|Hunting & Shooting|Field & Stream Sp...|       399.98|               1|       3516|\n",
      "|         44|       9992|Hunting & Shooting|Field & Stream Sp...|       399.98|               1|     150088|\n",
      "|         42|       7816| Bike & Skate Shop|Diamondback Women...|       299.98|               1|     164863|\n",
      "|         44|      10300|Hunting & Shooting|Field & Stream Sp...|       399.98|               1|      32507|\n",
      "|         44|       2152|Hunting & Shooting|Field & Stream Sp...|       399.98|               1|      50567|\n",
      "|         44|        602|Hunting & Shooting|Field & Stream Sp...|       399.98|               1|      79804|\n",
      "|         44|        685|Hunting & Shooting|Field & Stream Sp...|       399.98|               1|      68394|\n",
      "|         44|       7396|Hunting & Shooting|Field & Stream Sp...|       399.98|               1|      45827|\n",
      "|         42|      11165| Bike & Skate Shop|Diamondback Women...|       299.98|               1|      99392|\n",
      "|         44|      11584|Hunting & Shooting|Field & Stream Sp...|       399.98|               1|      30107|\n",
      "|         44|       6887|Hunting & Shooting|Field & Stream Sp...|       399.98|               1|     108056|\n",
      "+-----------+-----------+------------------+--------------------+-------------+----------------+-----------+\n",
      "only showing top 20 rows\n",
      "\n"
     ]
    }
   ],
   "source": [
    "productDF.filter(productDF[\"product_price\"] > 200).show()"
   ]
  },
  {
   "cell_type": "code",
   "execution_count": 61,
   "metadata": {},
   "outputs": [],
   "source": [
    "productDF.createOrReplaceTempView(\"product\")"
   ]
  },
  {
   "cell_type": "code",
   "execution_count": 63,
   "metadata": {},
   "outputs": [],
   "source": [
    "countProductCatAscDF = spark.sql(\"select product_category, count(*) as cnt from product group by product_category order by cnt\")"
   ]
  },
  {
   "cell_type": "code",
   "execution_count": 64,
   "metadata": {},
   "outputs": [
    {
     "name": "stdout",
     "output_type": "stream",
     "text": [
      "+-------------------+---+\n",
      "|   product_category|cnt|\n",
      "+-------------------+---+\n",
      "|Baseball & Softball|  4|\n",
      "|  Training by Sport|  5|\n",
      "|         Golf Shoes|  6|\n",
      "|           Football| 13|\n",
      "|   Cardio Equipment| 14|\n",
      "|   Men's Golf Clubs| 21|\n",
      "|      Shop By Sport| 26|\n",
      "|           Lacrosse| 32|\n",
      "|  Strength Training| 35|\n",
      "|         Basketball| 36|\n",
      "|   Camping & Hiking| 44|\n",
      "|Fitness Accessories| 47|\n",
      "|        Electronics| 48|\n",
      "|       Golf Apparel| 51|\n",
      "|             Soccer| 53|\n",
      "| Women's Golf Clubs| 57|\n",
      "|   Tennis & Racquet| 66|\n",
      "|  Golf Bags & Carts| 89|\n",
      "|      Boys' Apparel|102|\n",
      "|        Accessories|110|\n",
      "+-------------------+---+\n",
      "only showing top 20 rows\n",
      "\n"
     ]
    }
   ],
   "source": [
    "countProductCatAscDF.show()"
   ]
  },
  {
   "cell_type": "code",
   "execution_count": 65,
   "metadata": {},
   "outputs": [],
   "source": [
    "countProductCatAscDF.coalesce(1).write.json(\"/home/hduser/Desktop/Product Category\")"
   ]
  },
  {
   "cell_type": "code",
   "execution_count": null,
   "metadata": {},
   "outputs": [],
   "source": []
  }
 ],
 "metadata": {
  "kernelspec": {
   "display_name": "Python 3",
   "language": "python",
   "name": "python3"
  },
  "language_info": {
   "codemirror_mode": {
    "name": "ipython",
    "version": 3
   },
   "file_extension": ".py",
   "mimetype": "text/x-python",
   "name": "python",
   "nbconvert_exporter": "python",
   "pygments_lexer": "ipython3",
   "version": "3.5.2"
  }
 },
 "nbformat": 4,
 "nbformat_minor": 2
}
